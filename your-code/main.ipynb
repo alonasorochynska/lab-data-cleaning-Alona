{
 "cells": [
  {
   "cell_type": "markdown",
   "metadata": {},
   "source": [
    "#### 1. Import pandas library"
   ]
  },
  {
   "cell_type": "code",
   "execution_count": 1,
   "metadata": {},
   "outputs": [],
   "source": [
    "import pandas as pd"
   ]
  },
  {
   "cell_type": "markdown",
   "metadata": {},
   "source": [
    "#### 2. Import mysql.connector\n"
   ]
  },
  {
   "cell_type": "code",
   "execution_count": 2,
   "metadata": {},
   "outputs": [],
   "source": [
    "import mysql.connector"
   ]
  },
  {
   "cell_type": "markdown",
   "metadata": {},
   "source": [
    "#### 2.2. Run the following line\n"
   ]
  },
  {
   "cell_type": "code",
   "execution_count": 3,
   "metadata": {},
   "outputs": [],
   "source": [
    "cnx = mysql.connector.connect(user='guest', password='relational', host='relational.fit.cvut.cz', database='stats', use_pure=True)"
   ]
  },
  {
   "cell_type": "markdown",
   "metadata": {},
   "source": [
    "### Import users table:"
   ]
  },
  {
   "cell_type": "markdown",
   "metadata": {},
   "source": [
    "#### 3. Initialize cursor (as seen in classes' Jupyter Notebook)"
   ]
  },
  {
   "cell_type": "code",
   "execution_count": 4,
   "metadata": {},
   "outputs": [],
   "source": [
    "cursor = cnx.cursor()"
   ]
  },
  {
   "cell_type": "markdown",
   "metadata": {},
   "source": [
    "#### 4. Initialize query  (as seen in classes' Jupyter Notebook) \n",
    "#### You want the users table from stats database. (Hint: stats.users)"
   ]
  },
  {
   "cell_type": "code",
   "execution_count": 5,
   "metadata": {},
   "outputs": [],
   "source": [
    "query = (\"SELECT * FROM stats.users\") "
   ]
  },
  {
   "cell_type": "markdown",
   "metadata": {},
   "source": [
    "#### 5. Send query to database  (as seen in classes' Jupyter Notebook)"
   ]
  },
  {
   "cell_type": "code",
   "execution_count": 6,
   "metadata": {},
   "outputs": [],
   "source": [
    "cursor.execute(query)"
   ]
  },
  {
   "cell_type": "markdown",
   "metadata": {},
   "source": [
    "#### 6. Create a new dataframe (preferably called users) with the following columns names (as seen in classes' Jupyter Notebook)"
   ]
  },
  {
   "cell_type": "code",
   "execution_count": 7,
   "metadata": {},
   "outputs": [],
   "source": [
    "columns_users = ['Id', 'Reputation', 'CreationDate', 'DisplayName', 'LastAccessDate', 'WebsiteUrl', 'Location', 'AboutMe', 'Views', 'UpVotes', 'DownVotes', 'AccountId', 'Age', 'ProfileImageUrl']\n",
    "users = pd.DataFrame(columns = columns_users)"
   ]
  },
  {
   "cell_type": "code",
   "execution_count": null,
   "metadata": {},
   "outputs": [],
   "source": []
  },
  {
   "cell_type": "markdown",
   "metadata": {},
   "source": [
    "#### 7. Fill the new users dataframe with the data you can get iterating through cursor (as seen in classes' Jupyter Notebook)"
   ]
  },
  {
   "cell_type": "code",
   "execution_count": 14,
   "metadata": {},
   "outputs": [
    {
     "data": {
      "text/html": [
       "<div>\n",
       "<style scoped>\n",
       "    .dataframe tbody tr th:only-of-type {\n",
       "        vertical-align: middle;\n",
       "    }\n",
       "\n",
       "    .dataframe tbody tr th {\n",
       "        vertical-align: top;\n",
       "    }\n",
       "\n",
       "    .dataframe thead th {\n",
       "        text-align: right;\n",
       "    }\n",
       "</style>\n",
       "<table border=\"1\" class=\"dataframe\">\n",
       "  <thead>\n",
       "    <tr style=\"text-align: right;\">\n",
       "      <th></th>\n",
       "      <th>Id</th>\n",
       "      <th>Reputation</th>\n",
       "      <th>CreationDate</th>\n",
       "      <th>DisplayName</th>\n",
       "      <th>LastAccessDate</th>\n",
       "      <th>WebsiteUrl</th>\n",
       "      <th>Location</th>\n",
       "      <th>AboutMe</th>\n",
       "      <th>Views</th>\n",
       "      <th>UpVotes</th>\n",
       "      <th>DownVotes</th>\n",
       "      <th>AccountId</th>\n",
       "      <th>Age</th>\n",
       "      <th>ProfileImageUrl</th>\n",
       "    </tr>\n",
       "  </thead>\n",
       "  <tbody>\n",
       "    <tr>\n",
       "      <th>0</th>\n",
       "      <td>2</td>\n",
       "      <td>101</td>\n",
       "      <td>2010-07-19 14:01:36</td>\n",
       "      <td>Geoff Dalgas</td>\n",
       "      <td>2013-11-12 22:07:23</td>\n",
       "      <td>http://stackoverflow.com</td>\n",
       "      <td>Corvallis, OR</td>\n",
       "      <td>&lt;p&gt;Developer on the StackOverflow team.  Find ...</td>\n",
       "      <td>25</td>\n",
       "      <td>3</td>\n",
       "      <td>0</td>\n",
       "      <td>2</td>\n",
       "      <td>37</td>\n",
       "      <td>None</td>\n",
       "    </tr>\n",
       "    <tr>\n",
       "      <th>1</th>\n",
       "      <td>3</td>\n",
       "      <td>101</td>\n",
       "      <td>2010-07-19 15:34:50</td>\n",
       "      <td>Jarrod Dixon</td>\n",
       "      <td>2014-08-08 06:42:58</td>\n",
       "      <td>http://stackoverflow.com</td>\n",
       "      <td>New York, NY</td>\n",
       "      <td>&lt;p&gt;&lt;a href=\"http://blog.stackoverflow.com/2009...</td>\n",
       "      <td>22</td>\n",
       "      <td>19</td>\n",
       "      <td>0</td>\n",
       "      <td>3</td>\n",
       "      <td>35</td>\n",
       "      <td>None</td>\n",
       "    </tr>\n",
       "    <tr>\n",
       "      <th>2</th>\n",
       "      <td>4</td>\n",
       "      <td>101</td>\n",
       "      <td>2010-07-19 19:03:27</td>\n",
       "      <td>Emmett</td>\n",
       "      <td>2014-01-02 09:31:02</td>\n",
       "      <td>http://minesweeperonline.com</td>\n",
       "      <td>San Francisco, CA</td>\n",
       "      <td>&lt;p&gt;currently at a startup in SF&lt;/p&gt;\\n\\n&lt;p&gt;form...</td>\n",
       "      <td>11</td>\n",
       "      <td>0</td>\n",
       "      <td>0</td>\n",
       "      <td>1998</td>\n",
       "      <td>28</td>\n",
       "      <td>http://i.stack.imgur.com/d1oHX.jpg</td>\n",
       "    </tr>\n",
       "    <tr>\n",
       "      <th>3</th>\n",
       "      <td>5</td>\n",
       "      <td>6792</td>\n",
       "      <td>2010-07-19 19:03:57</td>\n",
       "      <td>Shane</td>\n",
       "      <td>2014-08-13 00:23:47</td>\n",
       "      <td>http://www.statalgo.com</td>\n",
       "      <td>New York, NY</td>\n",
       "      <td>&lt;p&gt;Quantitative researcher focusing on statist...</td>\n",
       "      <td>1145</td>\n",
       "      <td>662</td>\n",
       "      <td>5</td>\n",
       "      <td>54503</td>\n",
       "      <td>35</td>\n",
       "      <td>None</td>\n",
       "    </tr>\n",
       "    <tr>\n",
       "      <th>4</th>\n",
       "      <td>6</td>\n",
       "      <td>457</td>\n",
       "      <td>2010-07-19 19:04:07</td>\n",
       "      <td>Harlan</td>\n",
       "      <td>2014-08-07 19:49:44</td>\n",
       "      <td>http://www.harlan.harris.name</td>\n",
       "      <td>District of Columbia</td>\n",
       "      <td>&lt;ul&gt;\\n&lt;li&gt;PhD in CS/AI/Machine Learning/Cognit...</td>\n",
       "      <td>114</td>\n",
       "      <td>47</td>\n",
       "      <td>0</td>\n",
       "      <td>46050</td>\n",
       "      <td>41</td>\n",
       "      <td>None</td>\n",
       "    </tr>\n",
       "    <tr>\n",
       "      <th>5</th>\n",
       "      <td>7</td>\n",
       "      <td>429</td>\n",
       "      <td>2010-07-19 19:04:37</td>\n",
       "      <td>Vince</td>\n",
       "      <td>2014-09-10 21:14:12</td>\n",
       "      <td>http://bioinformatics.ucdavis.edu</td>\n",
       "      <td>Davis, CA</td>\n",
       "      <td>I'm a recent graduate of UC Davis in Economics...</td>\n",
       "      <td>56</td>\n",
       "      <td>20</td>\n",
       "      <td>0</td>\n",
       "      <td>49514</td>\n",
       "      <td>28</td>\n",
       "      <td>None</td>\n",
       "    </tr>\n",
       "    <tr>\n",
       "      <th>6</th>\n",
       "      <td>8</td>\n",
       "      <td>6764</td>\n",
       "      <td>2010-07-19 19:04:52</td>\n",
       "      <td>csgillespie</td>\n",
       "      <td>2014-09-09 21:15:08</td>\n",
       "      <td>http://www.mas.ncl.ac.uk/~ncsg3/</td>\n",
       "      <td>Newcastle, United Kingdom</td>\n",
       "      <td>&lt;p&gt;I'm a statistics lecturer at Newcastle Univ...</td>\n",
       "      <td>1089</td>\n",
       "      <td>604</td>\n",
       "      <td>25</td>\n",
       "      <td>70002</td>\n",
       "      <td>36</td>\n",
       "      <td>None</td>\n",
       "    </tr>\n",
       "    <tr>\n",
       "      <th>7</th>\n",
       "      <td>10</td>\n",
       "      <td>121</td>\n",
       "      <td>2010-07-19 19:05:40</td>\n",
       "      <td>Pierre</td>\n",
       "      <td>2014-07-28 18:15:02</td>\n",
       "      <td>http://plindenbaum.blogspot.com</td>\n",
       "      <td>France</td>\n",
       "      <td>Bioinformatician\\\\nVirology\\\\nGenetics\\\\nBiolo...</td>\n",
       "      <td>20</td>\n",
       "      <td>2</td>\n",
       "      <td>0</td>\n",
       "      <td>23234</td>\n",
       "      <td>44</td>\n",
       "      <td>None</td>\n",
       "    </tr>\n",
       "    <tr>\n",
       "      <th>8</th>\n",
       "      <td>11</td>\n",
       "      <td>136</td>\n",
       "      <td>2010-07-19 19:06:02</td>\n",
       "      <td>wahalulu</td>\n",
       "      <td>2014-07-23 21:28:18</td>\n",
       "      <td>http://www.linkedin.com/in/marckvaisman</td>\n",
       "      <td>Washington, DC</td>\n",
       "      <td>&lt;p&gt;data_stuff &amp;lt;- paste('data', c('scientist...</td>\n",
       "      <td>10</td>\n",
       "      <td>10</td>\n",
       "      <td>0</td>\n",
       "      <td>47893</td>\n",
       "      <td>40</td>\n",
       "      <td>None</td>\n",
       "    </tr>\n",
       "    <tr>\n",
       "      <th>9</th>\n",
       "      <td>12</td>\n",
       "      <td>101</td>\n",
       "      <td>2010-07-19 19:06:34</td>\n",
       "      <td>Jin</td>\n",
       "      <td>2014-09-09 20:26:03</td>\n",
       "      <td>http://www.8164.org</td>\n",
       "      <td>Raleigh, NC</td>\n",
       "      <td>&lt;p&gt;I design stuff for Stack Exchange. Also a p...</td>\n",
       "      <td>10</td>\n",
       "      <td>5</td>\n",
       "      <td>0</td>\n",
       "      <td>21721</td>\n",
       "      <td>38</td>\n",
       "      <td>None</td>\n",
       "    </tr>\n",
       "  </tbody>\n",
       "</table>\n",
       "</div>"
      ],
      "text/plain": [
       "   Id Reputation        CreationDate   DisplayName      LastAccessDate  \\\n",
       "0   2        101 2010-07-19 14:01:36  Geoff Dalgas 2013-11-12 22:07:23   \n",
       "1   3        101 2010-07-19 15:34:50  Jarrod Dixon 2014-08-08 06:42:58   \n",
       "2   4        101 2010-07-19 19:03:27        Emmett 2014-01-02 09:31:02   \n",
       "3   5       6792 2010-07-19 19:03:57         Shane 2014-08-13 00:23:47   \n",
       "4   6        457 2010-07-19 19:04:07        Harlan 2014-08-07 19:49:44   \n",
       "5   7        429 2010-07-19 19:04:37         Vince 2014-09-10 21:14:12   \n",
       "6   8       6764 2010-07-19 19:04:52   csgillespie 2014-09-09 21:15:08   \n",
       "7  10        121 2010-07-19 19:05:40        Pierre 2014-07-28 18:15:02   \n",
       "8  11        136 2010-07-19 19:06:02      wahalulu 2014-07-23 21:28:18   \n",
       "9  12        101 2010-07-19 19:06:34           Jin 2014-09-09 20:26:03   \n",
       "\n",
       "                                WebsiteUrl                   Location  \\\n",
       "0                 http://stackoverflow.com              Corvallis, OR   \n",
       "1                 http://stackoverflow.com               New York, NY   \n",
       "2             http://minesweeperonline.com          San Francisco, CA   \n",
       "3                  http://www.statalgo.com               New York, NY   \n",
       "4            http://www.harlan.harris.name       District of Columbia   \n",
       "5        http://bioinformatics.ucdavis.edu                  Davis, CA   \n",
       "6         http://www.mas.ncl.ac.uk/~ncsg3/  Newcastle, United Kingdom   \n",
       "7          http://plindenbaum.blogspot.com                     France   \n",
       "8  http://www.linkedin.com/in/marckvaisman             Washington, DC   \n",
       "9                      http://www.8164.org                Raleigh, NC   \n",
       "\n",
       "                                             AboutMe Views UpVotes DownVotes  \\\n",
       "0  <p>Developer on the StackOverflow team.  Find ...    25       3         0   \n",
       "1  <p><a href=\"http://blog.stackoverflow.com/2009...    22      19         0   \n",
       "2  <p>currently at a startup in SF</p>\\n\\n<p>form...    11       0         0   \n",
       "3  <p>Quantitative researcher focusing on statist...  1145     662         5   \n",
       "4  <ul>\\n<li>PhD in CS/AI/Machine Learning/Cognit...   114      47         0   \n",
       "5  I'm a recent graduate of UC Davis in Economics...    56      20         0   \n",
       "6  <p>I'm a statistics lecturer at Newcastle Univ...  1089     604        25   \n",
       "7  Bioinformatician\\\\nVirology\\\\nGenetics\\\\nBiolo...    20       2         0   \n",
       "8  <p>data_stuff &lt;- paste('data', c('scientist...    10      10         0   \n",
       "9  <p>I design stuff for Stack Exchange. Also a p...    10       5         0   \n",
       "\n",
       "  AccountId Age                     ProfileImageUrl  \n",
       "0         2  37                                None  \n",
       "1         3  35                                None  \n",
       "2      1998  28  http://i.stack.imgur.com/d1oHX.jpg  \n",
       "3     54503  35                                None  \n",
       "4     46050  41                                None  \n",
       "5     49514  28                                None  \n",
       "6     70002  36                                None  \n",
       "7     23234  44                                None  \n",
       "8     47893  40                                None  \n",
       "9     21721  38                                None  "
      ]
     },
     "execution_count": 14,
     "metadata": {},
     "output_type": "execute_result"
    }
   ],
   "source": [
    "for i, data in enumerate(cursor):\n",
    "    users.loc[i] = data\n",
    "users.head(10)"
   ]
  },
  {
   "cell_type": "markdown",
   "metadata": {},
   "source": [
    "#### 8. Rename Id column to userId"
   ]
  },
  {
   "cell_type": "code",
   "execution_count": null,
   "metadata": {},
   "outputs": [],
   "source": []
  },
  {
   "cell_type": "markdown",
   "metadata": {},
   "source": [
    "### Import posts table:"
   ]
  },
  {
   "cell_type": "markdown",
   "metadata": {},
   "source": [
    "#### 9. Initialize cursor (as seen in classes' Jupyter Notebook)"
   ]
  },
  {
   "cell_type": "code",
   "execution_count": null,
   "metadata": {},
   "outputs": [],
   "source": []
  },
  {
   "cell_type": "markdown",
   "metadata": {},
   "source": [
    "#### 10. Initialize query  (as seen in classes' Jupyter Notebook) \n",
    "#### You want the posts table from stats database. (Hint: no hint this time ;) )"
   ]
  },
  {
   "cell_type": "code",
   "execution_count": null,
   "metadata": {},
   "outputs": [],
   "source": []
  },
  {
   "cell_type": "markdown",
   "metadata": {},
   "source": [
    "#### 11. Send query to database  (as seen in classes' Jupyter Notebook)"
   ]
  },
  {
   "cell_type": "code",
   "execution_count": null,
   "metadata": {},
   "outputs": [],
   "source": []
  },
  {
   "cell_type": "markdown",
   "metadata": {},
   "source": [
    "#### 12. Create a new dataframe (preferably called posts) with the following columns names (as seen in classes' Jupyter Notebook)"
   ]
  },
  {
   "cell_type": "code",
   "execution_count": null,
   "metadata": {},
   "outputs": [],
   "source": [
    "columns_posts = ['Id', 'PostTypeId', 'AcceptedAnswerId', 'CreaionDate', 'Score', 'ViewCount', 'Body', 'OwnerUserId', 'LasActivityDate', 'Title', 'Tags', 'AnswerCount', 'CommentCount', 'FavoriteCount', 'LastEditorUserId', 'LastEditDate', 'CommunityOwnedDate', 'ParentId', 'ClosedDate', 'OwnerDisplayName', 'LastEditorDisplayName']"
   ]
  },
  {
   "cell_type": "code",
   "execution_count": null,
   "metadata": {},
   "outputs": [],
   "source": []
  },
  {
   "cell_type": "markdown",
   "metadata": {},
   "source": [
    "#### 12. Fill the new posts dataframe with the data you can get iterating through cursor (as seen in classes' Jupyter Notebook)"
   ]
  },
  {
   "cell_type": "code",
   "execution_count": null,
   "metadata": {},
   "outputs": [],
   "source": []
  },
  {
   "cell_type": "markdown",
   "metadata": {},
   "source": [
    "#### 13. Rename Id column to postId and OwnerUserId to userId"
   ]
  },
  {
   "cell_type": "code",
   "execution_count": null,
   "metadata": {},
   "outputs": [],
   "source": []
  },
  {
   "cell_type": "markdown",
   "metadata": {},
   "source": [
    "#### 14. Define new dataframes for users and posts with the following selected columns:\n",
    "    **users columns**: userId, Reputation,Views,UpVotes,DownVotes\n",
    "    **posts columns**: postId, Score,userID,ViewCount,CommentCount"
   ]
  },
  {
   "cell_type": "code",
   "execution_count": null,
   "metadata": {},
   "outputs": [],
   "source": []
  },
  {
   "cell_type": "markdown",
   "metadata": {},
   "source": [
    "#### 15. Merge both dataframes, users and posts. \n",
    "You will need to make a [merge](https://pandas.pydata.org/pandas-docs/stable/generated/pandas.DataFrame.merge.html) of posts and users dataframes."
   ]
  },
  {
   "cell_type": "code",
   "execution_count": null,
   "metadata": {},
   "outputs": [],
   "source": []
  },
  {
   "cell_type": "markdown",
   "metadata": {},
   "source": [
    "#### 16. How many missing values do you have in your merged dataframe? On which columns?"
   ]
  },
  {
   "cell_type": "code",
   "execution_count": null,
   "metadata": {},
   "outputs": [],
   "source": []
  },
  {
   "cell_type": "markdown",
   "metadata": {},
   "source": [
    "#### 17. You will need to make something with missing values.  Will you clean or filling them? Explain. \n",
    "**Remember** to check the results of your code before passing to the next step"
   ]
  },
  {
   "cell_type": "code",
   "execution_count": null,
   "metadata": {},
   "outputs": [],
   "source": []
  },
  {
   "cell_type": "markdown",
   "metadata": {},
   "source": [
    "#### 18. Adjust the data types in order to avoid future issues. Which ones should be changed? "
   ]
  },
  {
   "cell_type": "code",
   "execution_count": null,
   "metadata": {},
   "outputs": [],
   "source": []
  }
 ],
 "metadata": {
  "kernelspec": {
   "display_name": "Python 3",
   "language": "python",
   "name": "python3"
  },
  "language_info": {
   "codemirror_mode": {
    "name": "ipython",
    "version": 3
   },
   "file_extension": ".py",
   "mimetype": "text/x-python",
   "name": "python",
   "nbconvert_exporter": "python",
   "pygments_lexer": "ipython3",
   "version": "3.7.3"
  }
 },
 "nbformat": 4,
 "nbformat_minor": 2
}
